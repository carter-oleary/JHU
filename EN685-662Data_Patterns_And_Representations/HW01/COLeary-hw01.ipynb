{
 "cells": [
  {
   "cell_type": "markdown",
   "id": "af242253",
   "metadata": {},
   "source": [
    "![Map of tariffs broken down by country](https://github.com/carter-oleary/JHU/blob/main/EN685-662Data_Patterns_And_Representations/HW01/tariff_map.png?raw=true)"
   ]
  },
  {
   "cell_type": "markdown",
   "id": "035b4f76",
   "metadata": {},
   "source": [
    "The “Trump tariff status by country” map illustrates how nations were categorized under tariff policies: New rate (orange), Upcoming deadline (yellow), Deal rate (blue), and Baseline (beige). We will discuss its effectiveness using pre-attentive processing, visual perception techniques, and attributes of form.\n",
    "\n",
    "Pre-attentive processing enables viewers to detect features instantly, before conscious effort. Here, color is the primary way the graphic uses this. Countries colored orange or blue immediately stand out from the subdued beige baseline, signaling policy changes. Contrast also drives attention: vivid hues demand focus while beige recedes. One weakness is the similarity between beige and yellow, which can slow recognition of “upcoming deadline” nations vs the baseline nations.\n",
    "\n",
    "For visual perception techniques, Gestalt principles are evident. Similarity groups countries sharing tariff status; proximity strengthens these clusters when geographically close. For example, all the blue European countries appear as one large group driving home the point that most of the continent is operating at the deal rate. Separation between our areas of interest and blank space is clear, as the oceans fade and colored land areas become the focus. The visual hierarchy emphasizes saturated colors, pushing new or deal categories to the foreground, while baseline remains backgrounded. Labeling highlights major economies, directing attention to actors of policy importance. Though geographic projection enlarges regions near poles, distortion matters less here since the map encodes categories rather than quantitative data.\n",
    "\n",
    "In terms of attributes of form, the map primarily relies on color: bright orange and blue communicate urgency and contrast, while beige plays a neutral role. Shapes are geographic and familiar, but small countries may be hard to differentiate as seen by all the nations in Europe. Size is incidental, tied to landmass rather than tariff status, which can bias perception; large baseline countries like Russia or Australia may seem more significant than smaller “new rate” nations. Texture is absent, keeping the display clean but limiting accessibility for color-blind readers. Faint boundaries provide necessary separation, and typography is legible though crowded in places.\n",
    "\n",
    "All in all, the map succeeds in allowing rapid recognition of tariff categories, thanks to pre-attentive color processing and effective use of contrast. It could, however, be improved by ensuring accesibility to color blind (yellow and beige are difficult to distinguish), adding texture or symbols to reinforce categories, and presenting country counts alongside the map to offset geographic size bias. An interactive version would further enhance usability for small or crowded regions. Overall, the visualization applies fundamental principles of perception effectively. Pre-attentive color coding, Gestalt grouping, and careful form attributes create a clear, intuitive display, though refinements in accessibility and balance could improve its clarity and fairness."
   ]
  }
 ],
 "metadata": {
  "language_info": {
   "name": "python"
  }
 },
 "nbformat": 4,
 "nbformat_minor": 5
}
