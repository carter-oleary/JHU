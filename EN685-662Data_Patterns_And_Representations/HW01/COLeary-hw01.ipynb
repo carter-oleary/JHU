{
 "cells": [
  {
   "cell_type": "markdown",
   "id": "af242253",
   "metadata": {},
   "source": [
    "![Map of tariffs broken down by country](https://www.nytimes.com/interactive/2025/07/28/business/economy/trump-tariff-tracker.html)"
   ]
  }
 ],
 "metadata": {
  "language_info": {
   "name": "python"
  }
 },
 "nbformat": 4,
 "nbformat_minor": 5
}
